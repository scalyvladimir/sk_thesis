{
 "cells": [
  {
   "cell_type": "code",
   "execution_count": 1,
   "metadata": {},
   "outputs": [],
   "source": [
    "import pandas as pd"
   ]
  },
  {
   "cell_type": "code",
   "execution_count": 5,
   "metadata": {},
   "outputs": [
    {
     "data": {
      "text/html": [
       "<div>\n",
       "<style scoped>\n",
       "    .dataframe tbody tr th:only-of-type {\n",
       "        vertical-align: middle;\n",
       "    }\n",
       "\n",
       "    .dataframe tbody tr th {\n",
       "        vertical-align: top;\n",
       "    }\n",
       "\n",
       "    .dataframe thead th {\n",
       "        text-align: right;\n",
       "    }\n",
       "</style>\n",
       "<table border=\"1\" class=\"dataframe\">\n",
       "  <thead>\n",
       "    <tr style=\"text-align: right;\">\n",
       "      <th></th>\n",
       "      <th>philips3</th>\n",
       "      <th>siemens3</th>\n",
       "      <th>ge3</th>\n",
       "      <th>philips15</th>\n",
       "      <th>siemens15</th>\n",
       "      <th>ge15</th>\n",
       "    </tr>\n",
       "  </thead>\n",
       "  <tbody>\n",
       "    <tr>\n",
       "      <th>philips3</th>\n",
       "      <td>0.796110</td>\n",
       "      <td>0.746348</td>\n",
       "      <td>0.799545</td>\n",
       "      <td>0.816242</td>\n",
       "      <td>0.805262</td>\n",
       "      <td>0.801907</td>\n",
       "    </tr>\n",
       "    <tr>\n",
       "      <th>philips15</th>\n",
       "      <td>0.000067</td>\n",
       "      <td>0.000519</td>\n",
       "      <td>0.000379</td>\n",
       "      <td>0.000065</td>\n",
       "      <td>0.000017</td>\n",
       "      <td>0.000173</td>\n",
       "    </tr>\n",
       "    <tr>\n",
       "      <th>siemens3</th>\n",
       "      <td>0.326166</td>\n",
       "      <td>0.764948</td>\n",
       "      <td>0.613243</td>\n",
       "      <td>0.601169</td>\n",
       "      <td>0.482637</td>\n",
       "      <td>0.218178</td>\n",
       "    </tr>\n",
       "    <tr>\n",
       "      <th>siemens15</th>\n",
       "      <td>0.561121</td>\n",
       "      <td>0.744569</td>\n",
       "      <td>0.707336</td>\n",
       "      <td>0.781957</td>\n",
       "      <td>0.737165</td>\n",
       "      <td>0.529839</td>\n",
       "    </tr>\n",
       "    <tr>\n",
       "      <th>ge3</th>\n",
       "      <td>0.007901</td>\n",
       "      <td>0.001096</td>\n",
       "      <td>0.010957</td>\n",
       "      <td>0.009220</td>\n",
       "      <td>0.003486</td>\n",
       "      <td>0.006996</td>\n",
       "    </tr>\n",
       "  </tbody>\n",
       "</table>\n",
       "</div>"
      ],
      "text/plain": [
       "           philips3  siemens3       ge3  philips15  siemens15      ge15\n",
       "philips3   0.796110  0.746348  0.799545   0.816242   0.805262  0.801907\n",
       "philips15  0.000067  0.000519  0.000379   0.000065   0.000017  0.000173\n",
       "siemens3   0.326166  0.764948  0.613243   0.601169   0.482637  0.218178\n",
       "siemens15  0.561121  0.744569  0.707336   0.781957   0.737165  0.529839\n",
       "ge3        0.007901  0.001096  0.010957   0.009220   0.003486  0.006996"
      ]
     },
     "execution_count": 5,
     "metadata": {},
     "output_type": "execute_result"
    }
   ],
   "source": [
    "df = pd.read_csv('segformer.csv', index_col=0)\n",
    "df.head()"
   ]
  },
  {
   "cell_type": "code",
   "execution_count": 6,
   "metadata": {},
   "outputs": [
    {
     "data": {
      "text/html": [
       "<div>\n",
       "<style scoped>\n",
       "    .dataframe tbody tr th:only-of-type {\n",
       "        vertical-align: middle;\n",
       "    }\n",
       "\n",
       "    .dataframe tbody tr th {\n",
       "        vertical-align: top;\n",
       "    }\n",
       "\n",
       "    .dataframe thead th {\n",
       "        text-align: right;\n",
       "    }\n",
       "</style>\n",
       "<table border=\"1\" class=\"dataframe\">\n",
       "  <thead>\n",
       "    <tr style=\"text-align: right;\">\n",
       "      <th></th>\n",
       "      <th>philips3</th>\n",
       "      <th>siemens3</th>\n",
       "      <th>ge3</th>\n",
       "      <th>philips15</th>\n",
       "      <th>siemens15</th>\n",
       "      <th>ge15</th>\n",
       "    </tr>\n",
       "  </thead>\n",
       "  <tbody>\n",
       "    <tr>\n",
       "      <th>philips3</th>\n",
       "      <td>0.80</td>\n",
       "      <td>0.75</td>\n",
       "      <td>0.80</td>\n",
       "      <td>0.82</td>\n",
       "      <td>0.81</td>\n",
       "      <td>0.80</td>\n",
       "    </tr>\n",
       "    <tr>\n",
       "      <th>philips15</th>\n",
       "      <td>0.00</td>\n",
       "      <td>0.00</td>\n",
       "      <td>0.00</td>\n",
       "      <td>0.00</td>\n",
       "      <td>0.00</td>\n",
       "      <td>0.00</td>\n",
       "    </tr>\n",
       "    <tr>\n",
       "      <th>siemens3</th>\n",
       "      <td>0.33</td>\n",
       "      <td>0.76</td>\n",
       "      <td>0.61</td>\n",
       "      <td>0.60</td>\n",
       "      <td>0.48</td>\n",
       "      <td>0.22</td>\n",
       "    </tr>\n",
       "    <tr>\n",
       "      <th>siemens15</th>\n",
       "      <td>0.56</td>\n",
       "      <td>0.74</td>\n",
       "      <td>0.71</td>\n",
       "      <td>0.78</td>\n",
       "      <td>0.74</td>\n",
       "      <td>0.53</td>\n",
       "    </tr>\n",
       "    <tr>\n",
       "      <th>ge3</th>\n",
       "      <td>0.01</td>\n",
       "      <td>0.00</td>\n",
       "      <td>0.01</td>\n",
       "      <td>0.01</td>\n",
       "      <td>0.00</td>\n",
       "      <td>0.01</td>\n",
       "    </tr>\n",
       "    <tr>\n",
       "      <th>ge15</th>\n",
       "      <td>0.74</td>\n",
       "      <td>0.74</td>\n",
       "      <td>0.78</td>\n",
       "      <td>0.83</td>\n",
       "      <td>0.84</td>\n",
       "      <td>0.85</td>\n",
       "    </tr>\n",
       "  </tbody>\n",
       "</table>\n",
       "</div>"
      ],
      "text/plain": [
       "           philips3  siemens3   ge3  philips15  siemens15  ge15\n",
       "philips3       0.80      0.75  0.80       0.82       0.81  0.80\n",
       "philips15      0.00      0.00  0.00       0.00       0.00  0.00\n",
       "siemens3       0.33      0.76  0.61       0.60       0.48  0.22\n",
       "siemens15      0.56      0.74  0.71       0.78       0.74  0.53\n",
       "ge3            0.01      0.00  0.01       0.01       0.00  0.01\n",
       "ge15           0.74      0.74  0.78       0.83       0.84  0.85"
      ]
     },
     "execution_count": 6,
     "metadata": {},
     "output_type": "execute_result"
    }
   ],
   "source": [
    "df.round(2)"
   ]
  },
  {
   "cell_type": "code",
   "execution_count": 4,
   "metadata": {},
   "outputs": [
    {
     "data": {
      "text/plain": [
       "Index(['philips3', 'philips15', 'siemens3', 'siemens15', 'ge3', 'ge15'], dtype='object')"
      ]
     },
     "execution_count": 4,
     "metadata": {},
     "output_type": "execute_result"
    }
   ],
   "source": [
    "df.index"
   ]
  }
 ],
 "metadata": {
  "kernelspec": {
   "display_name": "myvenv",
   "language": "python",
   "name": "python3"
  },
  "language_info": {
   "codemirror_mode": {
    "name": "ipython",
    "version": 3
   },
   "file_extension": ".py",
   "mimetype": "text/x-python",
   "name": "python",
   "nbconvert_exporter": "python",
   "pygments_lexer": "ipython3",
   "version": "3.9.6"
  },
  "orig_nbformat": 4,
  "vscode": {
   "interpreter": {
    "hash": "c3648fee175847669dc139ab74b7326e243667795b7b7a5dee760623221bb492"
   }
  }
 },
 "nbformat": 4,
 "nbformat_minor": 2
}
