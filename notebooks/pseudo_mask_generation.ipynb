{
 "cells": [
  {
   "cell_type": "code",
   "execution_count": 1,
   "metadata": {},
   "outputs": [],
   "source": [
    "%load_ext autoreload\n",
    "%autoreload 2"
   ]
  },
  {
   "cell_type": "code",
   "execution_count": 2,
   "metadata": {},
   "outputs": [],
   "source": [
    "import numpy as np"
   ]
  },
  {
   "cell_type": "code",
   "execution_count": 3,
   "metadata": {},
   "outputs": [
    {
     "data": {
      "text/plain": [
       "((1, 10, 10), (1, 10, 10))"
      ]
     },
     "execution_count": 3,
     "metadata": {},
     "output_type": "execute_result"
    }
   ],
   "source": [
    "out = np.random.random((1, 2, 10, 10))\n",
    "\n",
    "labels, preds = np.argmax(out, axis=1), np.max(out, axis=1)\n",
    "labels.shape, preds.shape"
   ]
  },
  {
   "cell_type": "code",
   "execution_count": 5,
   "metadata": {},
   "outputs": [
    {
     "data": {
      "text/plain": [
       "tensor([[0.7246, 0.6563]], dtype=torch.float64)"
      ]
     },
     "execution_count": 5,
     "metadata": {},
     "output_type": "execute_result"
    }
   ],
   "source": [
    "arr = torch.from_numpy(out.reshape(out.shape[0], out.shape[1], -1))\n",
    "res = torch.topk(arr, k=int(arr.shape[2] * 0.33), dim=2)[0][:, :, -1]\n",
    "\n",
    "# torch.argsort(arr, dim=2)[:, :, int(100*0.66)].shape\n",
    "res"
   ]
  },
  {
   "cell_type": "code",
   "execution_count": 6,
   "metadata": {},
   "outputs": [
    {
     "data": {
      "text/plain": [
       "(1, 10, 10)"
      ]
     },
     "execution_count": 6,
     "metadata": {},
     "output_type": "execute_result"
    }
   ],
   "source": [
    "preds.shape"
   ]
  },
  {
   "cell_type": "code",
   "execution_count": 7,
   "metadata": {},
   "outputs": [],
   "source": [
    "# import torch\n",
    "\n",
    "# thres = []\n",
    "\n",
    "# for i in range(2):\n",
    "#     x = preds[labels==i]\n",
    "#     if len(x) == 0:\n",
    "#         thres.append(0)\n",
    "#         continue        \n",
    "#     x = np.sort(x)\n",
    "#     thres.append(x[np.int32(np.round(len(x)*0.66))])\n",
    "\n",
    "# thres"
   ]
  },
  {
   "cell_type": "code",
   "execution_count": 4,
   "metadata": {},
   "outputs": [],
   "source": [
    "from models.supervised_models import LitDeepLabV2"
   ]
  },
  {
   "cell_type": "code",
   "execution_count": 5,
   "metadata": {},
   "outputs": [
    {
     "data": {
      "text/plain": [
       "3"
      ]
     },
     "execution_count": 5,
     "metadata": {},
     "output_type": "execute_result"
    }
   ],
   "source": [
    "models_list = [LitDeepLabV2.load_from_checkpoint(f'pretrained/deeplab_v2/model{i}.ckpt').cuda() for i in range(1, 4)]\n",
    "len(models_list)"
   ]
  },
  {
   "cell_type": "code",
   "execution_count": 6,
   "metadata": {},
   "outputs": [
    {
     "data": {
      "text/plain": [
       "(10320, 10320)"
      ]
     },
     "execution_count": 6,
     "metadata": {},
     "output_type": "execute_result"
    }
   ],
   "source": [
    "from torchvision import transforms as TT\n",
    "from data import SegmentationDataset\n",
    "\n",
    "transforms = TT.Compose([\n",
    "    TT.ToTensor()\n",
    "])\n",
    "\n",
    "SIEMENS_PATH = '/raid/data/DA_BrainDataset/siemens3/df_save.csv'\n",
    "PHILIPS_PATH = '/raid/data/DA_BrainDataset/philips3/df_save.csv'\n",
    "\n",
    "dataset_A = SegmentationDataset(\n",
    "    dataframe_path = SIEMENS_PATH,\n",
    "    transform=transforms,\n",
    "    mask_transform=transforms\n",
    ")\n",
    "\n",
    "dataset_B = SegmentationDataset(\n",
    "    dataframe_path = PHILIPS_PATH,\n",
    "    transform=transforms,\n",
    "    mask_transform=transforms\n",
    ")\n",
    "\n",
    "len(dataset_A), len(dataset_B)"
   ]
  },
  {
   "cell_type": "code",
   "execution_count": 11,
   "metadata": {},
   "outputs": [
    {
     "data": {
      "image/png": "[encoded data removed]",
      "text/plain": [
       "<PIL.Image.Image image mode=L size=218x182 at 0x7F48D4CBCC40>"
      ]
     },
     "execution_count": 11,
     "metadata": {},
     "output_type": "execute_result"
    }
   ],
   "source": [
    "TT.ToPILImage()(dataset_B[200]['img'])"
   ]
  },
  {
   "cell_type": "code",
   "execution_count": 7,
   "metadata": {},
   "outputs": [
    {
     "data": {
      "text/html": [
       "<div>\n",
       "<style scoped>\n",
       "    .dataframe tbody tr th:only-of-type {\n",
       "        vertical-align: middle;\n",
       "    }\n",
       "\n",
       "    .dataframe tbody tr th {\n",
       "        vertical-align: top;\n",
       "    }\n",
       "\n",
       "    .dataframe thead th {\n",
       "        text-align: right;\n",
       "    }\n",
       "</style>\n",
       "<table border=\"1\" class=\"dataframe\">\n",
       "  <thead>\n",
       "    <tr style=\"text-align: right;\">\n",
       "      <th></th>\n",
       "      <th>img</th>\n",
       "      <th>mask</th>\n",
       "      <th>file_id</th>\n",
       "      <th>domain</th>\n",
       "      <th>pseudo_mask</th>\n",
       "    </tr>\n",
       "  </thead>\n",
       "  <tbody>\n",
       "    <tr>\n",
       "      <th>0</th>\n",
       "      <td>/raid/data/DA_BrainDataset/philips3/train/CC01...</td>\n",
       "      <td>/raid/data/DA_BrainDataset/philips3/mask/CC010...</td>\n",
       "      <td>CC0109</td>\n",
       "      <td>philips_3</td>\n",
       "      <td></td>\n",
       "    </tr>\n",
       "    <tr>\n",
       "      <th>1</th>\n",
       "      <td>/raid/data/DA_BrainDataset/philips3/train/CC01...</td>\n",
       "      <td>/raid/data/DA_BrainDataset/philips3/mask/CC010...</td>\n",
       "      <td>CC0109</td>\n",
       "      <td>philips_3</td>\n",
       "      <td></td>\n",
       "    </tr>\n",
       "    <tr>\n",
       "      <th>2</th>\n",
       "      <td>/raid/data/DA_BrainDataset/philips3/train/CC01...</td>\n",
       "      <td>/raid/data/DA_BrainDataset/philips3/mask/CC010...</td>\n",
       "      <td>CC0109</td>\n",
       "      <td>philips_3</td>\n",
       "      <td></td>\n",
       "    </tr>\n",
       "    <tr>\n",
       "      <th>3</th>\n",
       "      <td>/raid/data/DA_BrainDataset/philips3/train/CC01...</td>\n",
       "      <td>/raid/data/DA_BrainDataset/philips3/mask/CC010...</td>\n",
       "      <td>CC0109</td>\n",
       "      <td>philips_3</td>\n",
       "      <td></td>\n",
       "    </tr>\n",
       "    <tr>\n",
       "      <th>4</th>\n",
       "      <td>/raid/data/DA_BrainDataset/philips3/train/CC01...</td>\n",
       "      <td>/raid/data/DA_BrainDataset/philips3/mask/CC010...</td>\n",
       "      <td>CC0109</td>\n",
       "      <td>philips_3</td>\n",
       "      <td></td>\n",
       "    </tr>\n",
       "  </tbody>\n",
       "</table>\n",
       "</div>"
      ],
      "text/plain": [
       "                                                 img  \\\n",
       "0  /raid/data/DA_BrainDataset/philips3/train/CC01...   \n",
       "1  /raid/data/DA_BrainDataset/philips3/train/CC01...   \n",
       "2  /raid/data/DA_BrainDataset/philips3/train/CC01...   \n",
       "3  /raid/data/DA_BrainDataset/philips3/train/CC01...   \n",
       "4  /raid/data/DA_BrainDataset/philips3/train/CC01...   \n",
       "\n",
       "                                                mask file_id     domain  \\\n",
       "0  /raid/data/DA_BrainDataset/philips3/mask/CC010...  CC0109  philips_3   \n",
       "1  /raid/data/DA_BrainDataset/philips3/mask/CC010...  CC0109  philips_3   \n",
       "2  /raid/data/DA_BrainDataset/philips3/mask/CC010...  CC0109  philips_3   \n",
       "3  /raid/data/DA_BrainDataset/philips3/mask/CC010...  CC0109  philips_3   \n",
       "4  /raid/data/DA_BrainDataset/philips3/mask/CC010...  CC0109  philips_3   \n",
       "\n",
       "  pseudo_mask  \n",
       "0              \n",
       "1              \n",
       "2              \n",
       "3              \n",
       "4              "
      ]
     },
     "execution_count": 7,
     "metadata": {},
     "output_type": "execute_result"
    }
   ],
   "source": [
    "pseudo_df = dataset_B.df\n",
    "pseudo_df['pseudo_mask'] = ''\n",
    "pseudo_df.head(5)"
   ]
  },
  {
   "cell_type": "code",
   "execution_count": 9,
   "metadata": {},
   "outputs": [
    {
     "data": {
      "application/vnd.jupyter.widget-view+json": {
       "model_id": "0c47fc18253049d89da974a346ac984d",
       "version_major": 2,
       "version_minor": 0
      },
      "text/plain": [
       "  0%|          | 0/10320 [00:00<?, ?it/s]"
      ]
     },
     "metadata": {},
     "output_type": "display_data"
    }
   ],
   "source": [
    "from tqdm.notebook import tqdm\n",
    "from PIL import Image\n",
    "import torch\n",
    "import os\n",
    "\n",
    "num_classes = 2\n",
    "\n",
    "with torch.no_grad():\n",
    "\n",
    "    # preds = torch.zeros((len(dataset_B), 182, 218))\n",
    "    # labels = torch.zeros((len(dataset_B), 182, 218))\n",
    "\n",
    "    # for i, _ in tqdm(enumerate(dataset_B), total=len(dataset_B)):\n",
    "\n",
    "    #     img = dataset_B[i]['img'].unsqueeze(0).cuda()\n",
    "    #     mask = dataset_B[i]['mask'].squeeze()\n",
    "    #     out = torch.zeros((1, num_classes, img.shape[-2], img.shape[-1])) \n",
    "\n",
    "    #     for model in models_list:\n",
    "    #         out += model(img).cpu() / len(models_list)\n",
    "\n",
    "    #     labels[i] = torch.argmax(out, dim=1).squeeze().float()\n",
    "    #     preds[i] = torch.max(out, dim=1).values.squeeze().float()\n",
    "\n",
    "    # thres = torch.zeros(num_classes)\n",
    "\n",
    "    # for i in range(num_classes):\n",
    "    #     x = preds[labels==i]\n",
    "    #     if len(x) != 0:        \n",
    "    #         thres[i] = torch.topk(x, k=int(len(x) * 0.34))[0][-1]\n",
    "\n",
    "    # thres[thres > 0.9] = 0.9\n",
    "    \n",
    "    for sample_id, _ in tqdm(enumerate(dataset_B), total=len(dataset_B)):\n",
    "        label = labels[sample_id]\n",
    "        prob = preds[sample_id]\n",
    "        for i in range(num_classes):\n",
    "            label[   (prob<thres[i]) * (label==i)   ] = 255  \n",
    "        output = np.asarray(label, dtype=np.uint8)\n",
    "        output = Image.fromarray(output)\n",
    "\n",
    "        f_path = f'pseudo_masks/mask_{sample_id}.png'\n",
    "        pseudo_df.at[sample_id, 'pseudo_mask'] = f'{os.getcwd()}/{f_path}'\n",
    "        im = TT.ToPILImage()(label)\n",
    "        im.save(f_path, 'PNG')\n",
    "        # break"
   ]
  },
  {
   "cell_type": "code",
   "execution_count": 11,
   "metadata": {},
   "outputs": [
    {
     "data": {
      "text/html": [
       "<div>\n",
       "<style scoped>\n",
       "    .dataframe tbody tr th:only-of-type {\n",
       "        vertical-align: middle;\n",
       "    }\n",
       "\n",
       "    .dataframe tbody tr th {\n",
       "        vertical-align: top;\n",
       "    }\n",
       "\n",
       "    .dataframe thead th {\n",
       "        text-align: right;\n",
       "    }\n",
       "</style>\n",
       "<table border=\"1\" class=\"dataframe\">\n",
       "  <thead>\n",
       "    <tr style=\"text-align: right;\">\n",
       "      <th></th>\n",
       "      <th>img</th>\n",
       "      <th>mask</th>\n",
       "      <th>file_id</th>\n",
       "      <th>domain</th>\n",
       "      <th>pseudo_mask</th>\n",
       "    </tr>\n",
       "  </thead>\n",
       "  <tbody>\n",
       "    <tr>\n",
       "      <th>0</th>\n",
       "      <td>/raid/data/DA_BrainDataset/philips3/train/CC01...</td>\n",
       "      <td>/raid/data/DA_BrainDataset/philips3/mask/CC010...</td>\n",
       "      <td>CC0109</td>\n",
       "      <td>philips_3</td>\n",
       "      <td>/home/v_chernyy/thesis/pseudo_masks/mask_0.png</td>\n",
       "    </tr>\n",
       "    <tr>\n",
       "      <th>1</th>\n",
       "      <td>/raid/data/DA_BrainDataset/philips3/train/CC01...</td>\n",
       "      <td>/raid/data/DA_BrainDataset/philips3/mask/CC010...</td>\n",
       "      <td>CC0109</td>\n",
       "      <td>philips_3</td>\n",
       "      <td>/home/v_chernyy/thesis/pseudo_masks/mask_1.png</td>\n",
       "    </tr>\n",
       "    <tr>\n",
       "      <th>2</th>\n",
       "      <td>/raid/data/DA_BrainDataset/philips3/train/CC01...</td>\n",
       "      <td>/raid/data/DA_BrainDataset/philips3/mask/CC010...</td>\n",
       "      <td>CC0109</td>\n",
       "      <td>philips_3</td>\n",
       "      <td>/home/v_chernyy/thesis/pseudo_masks/mask_2.png</td>\n",
       "    </tr>\n",
       "    <tr>\n",
       "      <th>3</th>\n",
       "      <td>/raid/data/DA_BrainDataset/philips3/train/CC01...</td>\n",
       "      <td>/raid/data/DA_BrainDataset/philips3/mask/CC010...</td>\n",
       "      <td>CC0109</td>\n",
       "      <td>philips_3</td>\n",
       "      <td>/home/v_chernyy/thesis/pseudo_masks/mask_3.png</td>\n",
       "    </tr>\n",
       "    <tr>\n",
       "      <th>4</th>\n",
       "      <td>/raid/data/DA_BrainDataset/philips3/train/CC01...</td>\n",
       "      <td>/raid/data/DA_BrainDataset/philips3/mask/CC010...</td>\n",
       "      <td>CC0109</td>\n",
       "      <td>philips_3</td>\n",
       "      <td>/home/v_chernyy/thesis/pseudo_masks/mask_4.png</td>\n",
       "    </tr>\n",
       "  </tbody>\n",
       "</table>\n",
       "</div>"
      ],
      "text/plain": [
       "                                                 img  \\\n",
       "0  /raid/data/DA_BrainDataset/philips3/train/CC01...   \n",
       "1  /raid/data/DA_BrainDataset/philips3/train/CC01...   \n",
       "2  /raid/data/DA_BrainDataset/philips3/train/CC01...   \n",
       "3  /raid/data/DA_BrainDataset/philips3/train/CC01...   \n",
       "4  /raid/data/DA_BrainDataset/philips3/train/CC01...   \n",
       "\n",
       "                                                mask file_id     domain  \\\n",
       "0  /raid/data/DA_BrainDataset/philips3/mask/CC010...  CC0109  philips_3   \n",
       "1  /raid/data/DA_BrainDataset/philips3/mask/CC010...  CC0109  philips_3   \n",
       "2  /raid/data/DA_BrainDataset/philips3/mask/CC010...  CC0109  philips_3   \n",
       "3  /raid/data/DA_BrainDataset/philips3/mask/CC010...  CC0109  philips_3   \n",
       "4  /raid/data/DA_BrainDataset/philips3/mask/CC010...  CC0109  philips_3   \n",
       "\n",
       "                                      pseudo_mask  \n",
       "0  /home/v_chernyy/thesis/pseudo_masks/mask_0.png  \n",
       "1  /home/v_chernyy/thesis/pseudo_masks/mask_1.png  \n",
       "2  /home/v_chernyy/thesis/pseudo_masks/mask_2.png  \n",
       "3  /home/v_chernyy/thesis/pseudo_masks/mask_3.png  \n",
       "4  /home/v_chernyy/thesis/pseudo_masks/mask_4.png  "
      ]
     },
     "execution_count": 11,
     "metadata": {},
     "output_type": "execute_result"
    }
   ],
   "source": [
    "pseudo_df.to_csv('pseudo_df.csv')\n",
    "pseudo_df.head(5)"
   ]
  },
  {
   "cell_type": "code",
   "execution_count": 12,
   "metadata": {},
   "outputs": [
    {
     "name": "stdout",
     "output_type": "stream",
     "text": [
      "/home/v_chernyy/thesis\n"
     ]
    }
   ],
   "source": [
    "!pwd"
   ]
  }
 ],
 "metadata": {
  "kernelspec": {
   "display_name": "Python 3 (ipykernel)",
   "language": "python",
   "name": "python3"
  },
  "language_info": {
   "codemirror_mode": {
    "name": "ipython",
    "version": 3
   },
   "file_extension": ".py",
   "mimetype": "text/x-python",
   "name": "python",
   "nbconvert_exporter": "python",
   "pygments_lexer": "ipython3",
   "version": "3.9.6"
  },
  "vscode": {
   "interpreter": {
    "hash": "c3648fee175847669dc139ab74b7326e243667795b7b7a5dee760623221bb492"
   }
  }
 },
 "nbformat": 4,
 "nbformat_minor": 2
}
