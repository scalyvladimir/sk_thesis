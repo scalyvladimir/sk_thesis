{
 "cells": [
  {
   "cell_type": "code",
   "execution_count": 1,
   "metadata": {},
   "outputs": [],
   "source": [
    "%load_ext autoreload\n",
    "%autoreload 2"
   ]
  },
  {
   "cell_type": "code",
   "execution_count": 2,
   "metadata": {},
   "outputs": [
    {
     "name": "stdout",
     "output_type": "stream",
     "text": [
      "/raid/data/DA_BrainDataset/siemens3/df_save.csv\n"
     ]
    }
   ],
   "source": [
    "!ls /raid/data/DA_BrainDataset/siemens3/df_save.csv"
   ]
  },
  {
   "cell_type": "code",
   "execution_count": 3,
   "metadata": {},
   "outputs": [],
   "source": [
    "SIEMENS_PATH = '/raid/data/DA_BrainDataset/siemens3/df_save.csv'\n",
    "PHILIPS_PATH = '/raid/data/DA_BrainDataset/philips3/df_save.csv'"
   ]
  },
  {
   "cell_type": "code",
   "execution_count": 4,
   "metadata": {},
   "outputs": [
    {
     "data": {
      "text/plain": [
       "(10320, 10320)"
      ]
     },
     "execution_count": 4,
     "metadata": {},
     "output_type": "execute_result"
    }
   ],
   "source": [
    "from torchvision import transforms as TT\n",
    "from data import SegmentationDataset\n",
    "\n",
    "transforms = TT.Compose([\n",
    "    TT.ToTensor()\n",
    "])\n",
    "\n",
    "\n",
    "dataset_A = SegmentationDataset(\n",
    "    dataframe_path = SIEMENS_PATH,\n",
    "    transform=transforms,\n",
    "    mask_transform=transforms\n",
    ")\n",
    "\n",
    "dataset_B = SegmentationDataset(\n",
    "    dataframe_path = PHILIPS_PATH,\n",
    "    transform=transforms,\n",
    "    mask_transform=transforms\n",
    ")\n",
    "\n",
    "len(dataset_A), len(dataset_B)"
   ]
  },
  {
   "attachments": {},
   "cell_type": "markdown",
   "metadata": {},
   "source": [
    "___"
   ]
  },
  {
   "attachments": {},
   "cell_type": "markdown",
   "metadata": {},
   "source": [
    "\n",
    "$\\mathcal{L}\\left(\\phi^w ; D^{s \\rightarrow t}, D^t\\right)=\\mathcal{L}_{c e}\\left(\\phi^w ; D^{s \\rightarrow t}\\right)+\\lambda_{\\text {ent }} \\mathcal{L}_{\\text {ent }}\\left(\\phi^w ; D^t\\right)$ (6)\n",
    "\n",
    "$\\mathcal{L}_{c e}\\left(\\phi^w ; D^{s \\rightarrow t}\\right)=-\\sum_i\\left\\langle y_i^s, \\log \\left(\\phi^w\\left(x_i^{s \\rightarrow t}\\right)\\right)\\right\\rangle$.\n",
    "\n",
    "$\\mathcal{L}_{\\text {ent }}\\left(\\phi^w ; D^t\\right)=\\sum_i \\rho\\left(-\\left\\langle\\phi^w\\left(x_i^t\\right), \\log \\left(\\phi^w\\left(x_i^t\\right)\\right)\\right\\rangle\\right)$\n",
    "\n",
    "$\\rho(x)=\\left(x^2+0.001^2\\right)^\\eta$"
   ]
  },
  {
   "attachments": {},
   "cell_type": "markdown",
   "metadata": {},
   "source": [
    "___"
   ]
  },
  {
   "attachments": {},
   "cell_type": "markdown",
   "metadata": {},
   "source": [
    "$\\begin{aligned} & \\mathcal{L}_{s s t}\\left(\\phi^w ; D^{s \\rightarrow t}, \\hat{D}^t\\right)=\\mathcal{L}_{c e}\\left(\\phi^w ; D^{s \\rightarrow t}\\right) \\\\ &+\\lambda_{\\text {ent }} \\mathcal{L}_{\\text {ent }}\\left(\\phi^w ; D^t\\right)+\\mathcal{L}_{c e}\\left(\\phi^w ; \\hat{D}^t\\right)\\end{aligned}$ (8)"
   ]
  },
  {
   "attachments": {},
   "cell_type": "markdown",
   "metadata": {},
   "source": [
    "___"
   ]
  },
  {
   "attachments": {},
   "cell_type": "markdown",
   "metadata": {},
   "source": [
    "The full training procedure of our FDA semantic\n",
    "segmentation network consists of:\n",
    "1. one round of initial training\n",
    "of M=3 models from scratch using Eq. (6)\n",
    "2. two more\n",
    "rounds of self-supervised training using Eq. (8)"
   ]
  },
  {
   "cell_type": "code",
   "execution_count": 5,
   "metadata": {},
   "outputs": [
    {
     "data": {
      "text/plain": [
       "device(type='cuda', index=0)"
      ]
     },
     "execution_count": 5,
     "metadata": {},
     "output_type": "execute_result"
    }
   ],
   "source": [
    "import torch\n",
    "\n",
    "DEVICE = torch.device('cuda:0' if torch.cuda.is_available() else 'cpu')\n",
    "DEVICE"
   ]
  },
  {
   "cell_type": "code",
   "execution_count": 6,
   "metadata": {},
   "outputs": [],
   "source": [
    "import gc\n",
    "\n",
    "def clear_cache():\n",
    "    return torch.cuda.empty_cache(), gc.collect()"
   ]
  },
  {
   "cell_type": "code",
   "execution_count": 16,
   "metadata": {},
   "outputs": [],
   "source": [
    "N_EPOCHS=15\n",
    "BATCH_SIZE=3"
   ]
  },
  {
   "cell_type": "code",
   "execution_count": 17,
   "metadata": {},
   "outputs": [],
   "source": [
    "from data import get_train_test_split_loaders\n",
    "\n",
    "trainA_loader, testA_loader = get_train_test_split_loaders(\n",
    "    dataset_A, batch_size=BATCH_SIZE, test_size=0.2\n",
    ")\n",
    "\n",
    "trainB_loader, testB_loader = get_train_test_split_loaders(\n",
    "    dataset_B, batch_size=BATCH_SIZE, test_size=0.2\n",
    ")"
   ]
  },
  {
   "cell_type": "code",
   "execution_count": 18,
   "metadata": {},
   "outputs": [],
   "source": [
    "# from utils import beta_transform\n",
    "\n",
    "# img_id = 1\n",
    "\n",
    "# a = trainA_loader.dataset[img_id]['img']\n",
    "# b = trainB_loader.dataset[img_id]['img']\n",
    "\n",
    "# beta_transform(a, b, 0.5, show=True)\n",
    "# a.shape, b.shape\n"
   ]
  },
  {
   "cell_type": "code",
   "execution_count": 19,
   "metadata": {},
   "outputs": [],
   "source": [
    "from models.supervised_models import LitDeepLabV2\n",
    "\n",
    "clear_cache()\n",
    "\n",
    "model = LitDeepLabV2(\n",
    "    num_classes=2,\n",
    "    n_epochs=N_EPOCHS,\n",
    "    beta=0.05,\n",
    "    ent_lambda=0.005,\n",
    "    eta=2.0\n",
    ").to(DEVICE)"
   ]
  },
  {
   "cell_type": "code",
   "execution_count": 25,
   "metadata": {},
   "outputs": [
    {
     "name": "stderr",
     "output_type": "stream",
     "text": [
      "GPU available: True (cuda), used: True\n",
      "TPU available: False, using: 0 TPU cores\n",
      "IPU available: False, using: 0 IPUs\n",
      "HPU available: False, using: 0 HPUs\n"
     ]
    },
    {
     "name": "stderr",
     "output_type": "stream",
     "text": [
      "wandb: ERROR Dropped streaming file chunk (see wandb/debug-internal.log)\n"
     ]
    }
   ],
   "source": [
    "import pytorch_lightning as pl\n",
    "from pytorch_lightning.callbacks import ModelCheckpoint\n",
    "\n",
    "wb_logger = pl.loggers.WandbLogger(\n",
    "    name='DeepLab debug',\n",
    "    project='FDA'\n",
    ")\n",
    "\n",
    "checkpoint_callback = ModelCheckpoint(\n",
    "    dirpath='checkpoints',\n",
    "    monitor='val_miou',\n",
    "    filename='{epoch:02d}-{val_miou:.3f}',\n",
    "    mode='max'\n",
    ")\n",
    "\n",
    "trainer = pl.Trainer(\n",
    "    max_epochs=N_EPOCHS,\n",
    "    logger=wb_logger,\n",
    "    accelerator='gpu',\n",
    "    devices=1,\n",
    "    benchmark=True,\n",
    "    callbacks=[checkpoint_callback]\n",
    ")"
   ]
  },
  {
   "cell_type": "code",
   "execution_count": 26,
   "metadata": {},
   "outputs": [
    {
     "name": "stderr",
     "output_type": "stream",
     "text": [
      "LOCAL_RANK: 0 - CUDA_VISIBLE_DEVICES: [0,1,2,3]\n",
      "\n",
      "  | Name       | Type                   | Params\n",
      "------------------------------------------------------\n",
      "0 | model      | ResNet101              | 42.6 M\n",
      "1 | train_miou | MulticlassJaccardIndex | 0     \n",
      "2 | val_miou   | MulticlassJaccardIndex | 0     \n",
      "------------------------------------------------------\n",
      "42.5 M    Trainable params\n",
      "105 K     Non-trainable params\n",
      "42.6 M    Total params\n",
      "170.565   Total estimated model params size (MB)\n"
     ]
    },
    {
     "data": {
      "application/vnd.jupyter.widget-view+json": {
       "model_id": "0afeb6620cc748ec9523604a54ed6ffd",
       "version_major": 2,
       "version_minor": 0
      },
      "text/plain": [
       "Sanity Checking: 0it [00:00, ?it/s]"
      ]
     },
     "metadata": {},
     "output_type": "display_data"
    },
    {
     "data": {
      "application/vnd.jupyter.widget-view+json": {
       "model_id": "80d32b532e25468b9a824155faf7793b",
       "version_major": 2,
       "version_minor": 0
      },
      "text/plain": [
       "Training: 0it [00:00, ?it/s]"
      ]
     },
     "metadata": {},
     "output_type": "display_data"
    },
    {
     "name": "stderr",
     "output_type": "stream",
     "text": [
      "Exception in thread Thread-29:\n",
      "Traceback (most recent call last):\n",
      "  File \"/home/v_chernyy/myvenv/lib/python3.9/site-packages/wandb/apis/normalize.py\", line 26, in wrapper\n",
      "    return func(*args, **kwargs)\n",
      "  File \"/home/v_chernyy/myvenv/lib/python3.9/site-packages/wandb/sdk/internal/internal_api.py\", line 1692, in upload_urls\n",
      "    raise CommError(f\"Run does not exist {entity}/{project}/{run_id}.\")\n",
      "wandb.errors.CommError: Run does not exist scalyvladimir/FDA/p6kgayle.\n",
      "\n",
      "During handling of the above exception, another exception occurred:\n",
      "\n",
      "Traceback (most recent call last):\n",
      "  File \"/usr/local/lib/python3.9/threading.py\", line 973, in _bootstrap_inner\n",
      "    self.run()\n",
      "  File \"/home/v_chernyy/myvenv/lib/python3.9/site-packages/wandb/filesync/upload_job.py\", line 67, in run\n",
      "    success = self.push()\n",
      "  File \"/home/v_chernyy/myvenv/lib/python3.9/site-packages/wandb/filesync/upload_job.py\", line 118, in push\n",
      "    _, upload_headers, result = self._api.upload_urls(project, [self.save_name])\n",
      "  File \"/home/v_chernyy/myvenv/lib/python3.9/site-packages/wandb/apis/normalize.py\", line 62, in wrapper\n",
      "    raise CommError(message, err).with_traceback(sys.exc_info()[2])\n",
      "  File \"/home/v_chernyy/myvenv/lib/python3.9/site-packages/wandb/apis/normalize.py\", line 26, in wrapper\n",
      "    return func(*args, **kwargs)\n",
      "  File \"/home/v_chernyy/myvenv/lib/python3.9/site-packages/wandb/sdk/internal/internal_api.py\", line 1692, in upload_urls\n",
      "    raise CommError(f\"Run does not exist {entity}/{project}/{run_id}.\")\n",
      "wandb.errors.CommError: Run does not exist scalyvladimir/FDA/p6kgayle.\n",
      "Exception in thread Thread-30:\n",
      "Traceback (most recent call last):\n",
      "  File \"/home/v_chernyy/myvenv/lib/python3.9/site-packages/wandb/apis/normalize.py\", line 26, in wrapper\n",
      "    return func(*args, **kwargs)\n",
      "  File \"/home/v_chernyy/myvenv/lib/python3.9/site-packages/wandb/sdk/internal/internal_api.py\", line 1692, in upload_urls\n",
      "    raise CommError(f\"Run does not exist {entity}/{project}/{run_id}.\")\n",
      "wandb.errors.CommError: Run does not exist scalyvladimir/FDA/p6kgayle.\n",
      "\n",
      "During handling of the above exception, another exception occurred:\n",
      "\n",
      "Traceback (most recent call last):\n",
      "  File \"/usr/local/lib/python3.9/threading.py\", line 973, in _bootstrap_inner\n",
      "    self.run()\n",
      "  File \"/home/v_chernyy/myvenv/lib/python3.9/site-packages/wandb/filesync/upload_job.py\", line 67, in run\n",
      "    success = self.push()\n",
      "  File \"/home/v_chernyy/myvenv/lib/python3.9/site-packages/wandb/filesync/upload_job.py\", line 118, in push\n",
      "    _, upload_headers, result = self._api.upload_urls(project, [self.save_name])\n",
      "  File \"/home/v_chernyy/myvenv/lib/python3.9/site-packages/wandb/apis/normalize.py\", line 62, in wrapper\n",
      "    raise CommError(message, err).with_traceback(sys.exc_info()[2])\n",
      "  File \"/home/v_chernyy/myvenv/lib/python3.9/site-packages/wandb/apis/normalize.py\", line 26, in wrapper\n",
      "    return func(*args, **kwargs)\n",
      "  File \"/home/v_chernyy/myvenv/lib/python3.9/site-packages/wandb/sdk/internal/internal_api.py\", line 1692, in upload_urls\n",
      "    raise CommError(f\"Run does not exist {entity}/{project}/{run_id}.\")\n",
      "wandb.errors.CommError: Run does not exist scalyvladimir/FDA/p6kgayle.\n",
      "wandb: ERROR Error while calling W&B API: run scalyvladimir/FDA/p6kgayle was previously created and deleted; try a new run name (<Response [409]>)\n",
      "wandb: ERROR Error while calling W&B API: run scalyvladimir/FDA/p6kgayle was previously created and deleted; try a new run name (<Response [409]>)\n",
      "wandb: ERROR Error while calling W&B API: run scalyvladimir/FDA/p6kgayle was previously created and deleted; try a new run name (<Response [409]>)\n",
      "wandb: ERROR Error while calling W&B API: run scalyvladimir/FDA/p6kgayle was previously created and deleted; try a new run name (<Response [409]>)\n",
      "wandb: ERROR Error while calling W&B API: run scalyvladimir/FDA/p6kgayle was previously created and deleted; try a new run name (<Response [409]>)\n"
     ]
    }
   ],
   "source": [
    "from pytorch_lightning.trainer.supporters import CombinedLoader\n",
    "import wandb\n",
    "\n",
    "trainer.fit(\n",
    "    model = model,\n",
    "    train_dataloaders = CombinedLoader({\n",
    "        'src': trainA_loader,\n",
    "        'tgt': trainB_loader\n",
    "    }),\n",
    "    val_dataloaders = CombinedLoader({\n",
    "        'src': testA_loader,\n",
    "        'tgt': testB_loader\n",
    "    })\n",
    ")\n",
    "\n",
    "# wandb.finish()"
   ]
  },
  {
   "cell_type": "code",
   "execution_count": null,
   "metadata": {},
   "outputs": [],
   "source": []
  },
  {
   "cell_type": "code",
   "execution_count": null,
   "metadata": {},
   "outputs": [],
   "source": [
    "  "
   ]
  }
 ],
 "metadata": {
  "kernelspec": {
   "display_name": "myvenv",
   "language": "python",
   "name": "python3"
  },
  "language_info": {
   "codemirror_mode": {
    "name": "ipython",
    "version": 3
   },
   "file_extension": ".py",
   "mimetype": "text/x-python",
   "name": "python",
   "nbconvert_exporter": "python",
   "pygments_lexer": "ipython3",
   "version": "3.9.6"
  },
  "orig_nbformat": 4,
  "vscode": {
   "interpreter": {
    "hash": "c3648fee175847669dc139ab74b7326e243667795b7b7a5dee760623221bb492"
   }
  }
 },
 "nbformat": 4,
 "nbformat_minor": 2
}
