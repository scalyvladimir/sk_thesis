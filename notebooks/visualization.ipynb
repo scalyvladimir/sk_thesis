{
 "cells": [
  {
   "cell_type": "code",
   "execution_count": 1,
   "id": "f855d839",
   "metadata": {},
   "outputs": [
    {
     "name": "stdout",
     "output_type": "stream",
     "text": [
      "env: CUDA_VISIBLE_DEVICES=1\n"
     ]
    }
   ],
   "source": [
    "%env CUDA_VISIBLE_DEVICES=1"
   ]
  },
  {
   "cell_type": "markdown",
   "id": "6af00415",
   "metadata": {},
   "source": [
    "## Paths"
   ]
  },
  {
   "cell_type": "code",
   "execution_count": 2,
   "id": "21178839",
   "metadata": {},
   "outputs": [
    {
     "data": {
      "text/plain": [
       "'/home/v_chernyy/thesis/notebooks'"
      ]
     },
     "execution_count": 2,
     "metadata": {},
     "output_type": "execute_result"
    }
   ],
   "source": [
    "pwd"
   ]
  },
  {
   "cell_type": "code",
   "execution_count": 3,
   "id": "6edd97c2",
   "metadata": {},
   "outputs": [],
   "source": [
    "import sys\n",
    "sys.path.append('/home/v_chernyy/thesis')"
   ]
  },
  {
   "cell_type": "code",
   "execution_count": 4,
   "id": "47dd5a3c",
   "metadata": {},
   "outputs": [
    {
     "name": "stderr",
     "output_type": "stream",
     "text": [
      "100%|██████████| 10320/10320 [00:05<00:00, 1996.36it/s]\n"
     ]
    },
    {
     "name": "stdout",
     "output_type": "stream",
     "text": [
      "19.61% of lines filtered\n"
     ]
    },
    {
     "name": "stderr",
     "output_type": "stream",
     "text": [
      "100%|██████████| 8628/8628 [00:01<00:00, 4517.64it/s]\n",
      "100%|██████████| 10320/10320 [00:05<00:00, 2047.31it/s]\n"
     ]
    },
    {
     "name": "stdout",
     "output_type": "stream",
     "text": [
      "23.15% of lines filtered\n"
     ]
    },
    {
     "name": "stderr",
     "output_type": "stream",
     "text": [
      "100%|██████████| 8380/8380 [00:01<00:00, 4484.40it/s]\n",
      "100%|██████████| 10320/10320 [00:05<00:00, 2015.30it/s]\n"
     ]
    },
    {
     "name": "stdout",
     "output_type": "stream",
     "text": [
      "19.72% of lines filtered\n"
     ]
    },
    {
     "name": "stderr",
     "output_type": "stream",
     "text": [
      "100%|██████████| 8620/8620 [00:01<00:00, 4491.60it/s]\n",
      "100%|██████████| 10148/10148 [00:04<00:00, 2054.69it/s]\n"
     ]
    },
    {
     "name": "stdout",
     "output_type": "stream",
     "text": [
      "20.28% of lines filtered\n"
     ]
    },
    {
     "name": "stderr",
     "output_type": "stream",
     "text": [
      "100%|██████████| 8437/8437 [00:01<00:00, 4494.98it/s]\n",
      "100%|██████████| 10320/10320 [00:05<00:00, 2016.79it/s]\n"
     ]
    },
    {
     "name": "stdout",
     "output_type": "stream",
     "text": [
      "22.51% of lines filtered\n"
     ]
    },
    {
     "name": "stderr",
     "output_type": "stream",
     "text": [
      "100%|██████████| 8424/8424 [00:01<00:00, 4345.62it/s]\n",
      "100%|██████████| 10320/10320 [00:05<00:00, 1982.21it/s]\n"
     ]
    },
    {
     "name": "stdout",
     "output_type": "stream",
     "text": [
      "20.36% of lines filtered\n"
     ]
    },
    {
     "name": "stderr",
     "output_type": "stream",
     "text": [
      "100%|██████████| 8574/8574 [00:01<00:00, 4352.57it/s]\n"
     ]
    }
   ],
   "source": [
    "from sklearn.model_selection import train_test_split\n",
    "import pandas as pd\n",
    "from PIL import Image\n",
    "import numpy as np\n",
    "from tqdm import tqdm\n",
    "\n",
    "for domain in ['siemens3', 'siemens15', 'philips3', 'philips15', 'ge3', 'ge15']:\n",
    "\n",
    "    df = pd.read_csv(f'/home/v_chernyy/CC359/{domain}/df_save.csv')\n",
    "\n",
    "    bad_lines = []\n",
    "\n",
    "    for line in tqdm(df.iterrows(), total=df.shape[0]):\n",
    "\n",
    "        mask = np.asarray(Image.open(line[1]['mask']))\n",
    "        if mask.sum() == 0:\n",
    "            bad_lines.append(line[0])\n",
    "\n",
    "    df = df[~df.index.isin(bad_lines)]\n",
    "\n",
    "    print(f'{len(bad_lines) / df.shape[0] * 100:.2f}% of lines filtered')\n",
    "\n",
    "    train_scans, val_scans = train_test_split(df.file_id.unique()[:-2])\n",
    "    test_scans = df.file_id.unique()[-2::]\n",
    "\n",
    "    df['fold'] = 'none'\n",
    "\n",
    "    for line in tqdm(df.iterrows(), total=df.shape[0]):\n",
    "        if line[1].file_id in train_scans:\n",
    "            df.loc[line[0], 'fold'] = 'train'\n",
    "        elif line[1].file_id in val_scans:\n",
    "            df.loc[line[0], 'fold'] = 'val'\n",
    "        elif line[1].file_id in test_scans:\n",
    "            df.loc[line[0], 'fold'] = 'test'\n",
    "        else:\n",
    "            raise ValueError\n",
    "\n",
    "    df.to_csv(f'/home/v_chernyy/thesis/dataframes/{domain}.csv')"
   ]
  },
  {
   "cell_type": "markdown",
   "id": "154c876d",
   "metadata": {},
   "source": [
    "## Models"
   ]
  },
  {
   "cell_type": "code",
   "execution_count": 4,
   "id": "f6c601f0",
   "metadata": {},
   "outputs": [],
   "source": [
    "from models.seg_wrapper import LitSegNet"
   ]
  },
  {
   "cell_type": "code",
   "execution_count": 7,
   "id": "de3e9d72",
   "metadata": {},
   "outputs": [],
   "source": [
    "domains = ['siemens15', 'siemens3', 'ge15', 'ge3', 'philips15', 'philips3']"
   ]
  },
  {
   "cell_type": "code",
   "execution_count": 9,
   "id": "38b0780d",
   "metadata": {},
   "outputs": [
    {
     "name": "stdout",
     "output_type": "stream",
     "text": [
      "ge15_segformer.ckpt  philips15_segformer.ckpt  siemens15_segformer.ckpt\n",
      "ge15_unet.ckpt       philips15_unet.ckpt       siemens15_unet.ckpt\n",
      "ge3_segformer.ckpt   philips3_segformer.ckpt   siemens3_segformer.ckpt\n",
      "ge3_unet.ckpt        philips3_unet.ckpt        siemens3_unet.ckpt\n"
     ]
    }
   ],
   "source": [
    "ls ../checkpoints/"
   ]
  },
  {
   "cell_type": "code",
   "execution_count": 13,
   "id": "a97ff56d",
   "metadata": {},
   "outputs": [
    {
     "name": "stderr",
     "output_type": "stream",
     "text": [
      "/home/v_chernyy/myvenv/lib/python3.9/site-packages/pytorch_lightning/utilities/parsing.py:262: UserWarning: Attribute 'backbone' is an instance of `nn.Module` and is already saved during checkpointing. It is recommended to ignore them using `self.save_hyperparameters(ignore=['backbone'])`.\n",
      "  rank_zero_warn(\n"
     ]
    },
    {
     "data": {
      "text/plain": [
       "6"
      ]
     },
     "execution_count": 13,
     "metadata": {},
     "output_type": "execute_result"
    }
   ],
   "source": [
    "models_list = [LitSegNet.load_from_checkpoint(f'../checkpoints/{d}_unet.ckpt').cpu().eval() for d in domains]\n",
    "len(models_list)"
   ]
  },
  {
   "cell_type": "markdown",
   "id": "23a51486",
   "metadata": {},
   "source": [
    "## Data"
   ]
  },
  {
   "cell_type": "code",
   "execution_count": 80,
   "id": "9cdd3c75",
   "metadata": {},
   "outputs": [
    {
     "data": {
      "text/html": [
       "<div>\n",
       "<style scoped>\n",
       "    .dataframe tbody tr th:only-of-type {\n",
       "        vertical-align: middle;\n",
       "    }\n",
       "\n",
       "    .dataframe tbody tr th {\n",
       "        vertical-align: top;\n",
       "    }\n",
       "\n",
       "    .dataframe thead th {\n",
       "        text-align: right;\n",
       "    }\n",
       "</style>\n",
       "<table border=\"1\" class=\"dataframe\">\n",
       "  <thead>\n",
       "    <tr style=\"text-align: right;\">\n",
       "      <th></th>\n",
       "      <th>img</th>\n",
       "      <th>mask</th>\n",
       "      <th>file_id</th>\n",
       "      <th>domain</th>\n",
       "      <th>fold</th>\n",
       "    </tr>\n",
       "  </thead>\n",
       "  <tbody>\n",
       "    <tr>\n",
       "      <th>1562</th>\n",
       "      <td>/raid/data/CC359/siemens15/train/CC0127_siemen...</td>\n",
       "      <td>/raid/data/CC359/siemens15/mask/CC0127_siemens...</td>\n",
       "      <td>CC0127</td>\n",
       "      <td>siemens_15</td>\n",
       "      <td>train</td>\n",
       "    </tr>\n",
       "    <tr>\n",
       "      <th>1563</th>\n",
       "      <td>/raid/data/CC359/siemens15/train/CC0127_siemen...</td>\n",
       "      <td>/raid/data/CC359/siemens15/mask/CC0127_siemens...</td>\n",
       "      <td>CC0127</td>\n",
       "      <td>siemens_15</td>\n",
       "      <td>train</td>\n",
       "    </tr>\n",
       "    <tr>\n",
       "      <th>1564</th>\n",
       "      <td>/raid/data/CC359/siemens15/train/CC0127_siemen...</td>\n",
       "      <td>/raid/data/CC359/siemens15/mask/CC0127_siemens...</td>\n",
       "      <td>CC0127</td>\n",
       "      <td>siemens_15</td>\n",
       "      <td>train</td>\n",
       "    </tr>\n",
       "    <tr>\n",
       "      <th>1565</th>\n",
       "      <td>/raid/data/CC359/siemens15/train/CC0127_siemen...</td>\n",
       "      <td>/raid/data/CC359/siemens15/mask/CC0127_siemens...</td>\n",
       "      <td>CC0127</td>\n",
       "      <td>siemens_15</td>\n",
       "      <td>train</td>\n",
       "    </tr>\n",
       "    <tr>\n",
       "      <th>1566</th>\n",
       "      <td>/raid/data/CC359/siemens15/train/CC0127_siemen...</td>\n",
       "      <td>/raid/data/CC359/siemens15/mask/CC0127_siemens...</td>\n",
       "      <td>CC0127</td>\n",
       "      <td>siemens_15</td>\n",
       "      <td>train</td>\n",
       "    </tr>\n",
       "    <tr>\n",
       "      <th>...</th>\n",
       "      <td>...</td>\n",
       "      <td>...</td>\n",
       "      <td>...</td>\n",
       "      <td>...</td>\n",
       "      <td>...</td>\n",
       "    </tr>\n",
       "    <tr>\n",
       "      <th>9958</th>\n",
       "      <td>/raid/data/CC359/siemens15/train/CC0159_siemen...</td>\n",
       "      <td>/raid/data/CC359/siemens15/mask/CC0159_siemens...</td>\n",
       "      <td>CC0159</td>\n",
       "      <td>siemens_15</td>\n",
       "      <td>train</td>\n",
       "    </tr>\n",
       "    <tr>\n",
       "      <th>9959</th>\n",
       "      <td>/raid/data/CC359/siemens15/train/CC0159_siemen...</td>\n",
       "      <td>/raid/data/CC359/siemens15/mask/CC0159_siemens...</td>\n",
       "      <td>CC0159</td>\n",
       "      <td>siemens_15</td>\n",
       "      <td>train</td>\n",
       "    </tr>\n",
       "    <tr>\n",
       "      <th>9960</th>\n",
       "      <td>/raid/data/CC359/siemens15/train/CC0159_siemen...</td>\n",
       "      <td>/raid/data/CC359/siemens15/mask/CC0159_siemens...</td>\n",
       "      <td>CC0159</td>\n",
       "      <td>siemens_15</td>\n",
       "      <td>train</td>\n",
       "    </tr>\n",
       "    <tr>\n",
       "      <th>9961</th>\n",
       "      <td>/raid/data/CC359/siemens15/train/CC0159_siemen...</td>\n",
       "      <td>/raid/data/CC359/siemens15/mask/CC0159_siemens...</td>\n",
       "      <td>CC0159</td>\n",
       "      <td>siemens_15</td>\n",
       "      <td>train</td>\n",
       "    </tr>\n",
       "    <tr>\n",
       "      <th>9962</th>\n",
       "      <td>/raid/data/CC359/siemens15/train/CC0159_siemen...</td>\n",
       "      <td>/raid/data/CC359/siemens15/mask/CC0159_siemens...</td>\n",
       "      <td>CC0159</td>\n",
       "      <td>siemens_15</td>\n",
       "      <td>train</td>\n",
       "    </tr>\n",
       "  </tbody>\n",
       "</table>\n",
       "<p>6839 rows × 5 columns</p>\n",
       "</div>"
      ],
      "text/plain": [
       "                                                    img  ...   fold\n",
       "1562  /raid/data/CC359/siemens15/train/CC0127_siemen...  ...  train\n",
       "1563  /raid/data/CC359/siemens15/train/CC0127_siemen...  ...  train\n",
       "1564  /raid/data/CC359/siemens15/train/CC0127_siemen...  ...  train\n",
       "1565  /raid/data/CC359/siemens15/train/CC0127_siemen...  ...  train\n",
       "1566  /raid/data/CC359/siemens15/train/CC0127_siemen...  ...  train\n",
       "...                                                 ...  ...    ...\n",
       "9958  /raid/data/CC359/siemens15/train/CC0159_siemen...  ...  train\n",
       "9959  /raid/data/CC359/siemens15/train/CC0159_siemen...  ...  train\n",
       "9960  /raid/data/CC359/siemens15/train/CC0159_siemen...  ...  train\n",
       "9961  /raid/data/CC359/siemens15/train/CC0159_siemen...  ...  train\n",
       "9962  /raid/data/CC359/siemens15/train/CC0159_siemen...  ...  train\n",
       "\n",
       "[6839 rows x 5 columns]"
      ]
     },
     "execution_count": 80,
     "metadata": {},
     "output_type": "execute_result"
    }
   ],
   "source": [
    "df_list[0][df_list[0]['fold'] == 'train']"
   ]
  },
  {
   "cell_type": "code",
   "execution_count": 114,
   "id": "1f8815d7",
   "metadata": {},
   "outputs": [
    {
     "data": {
      "text/plain": [
       "(60, 5)"
      ]
     },
     "execution_count": 114,
     "metadata": {},
     "output_type": "execute_result"
    }
   ],
   "source": []
  },
  {
   "cell_type": "code",
   "execution_count": 119,
   "id": "acdcb94f",
   "metadata": {},
   "outputs": [],
   "source": [
    "import pandas as pd\n",
    "from data import SegmentationDataset\n",
    "from torch.utils.data import DataLoader\n",
    "\n",
    "df_list = [pd.read_csv(f'../dataframes/{d}.csv', index_col=0) for d in domains]\n",
    "\n",
    "# lambda df_list[0].img.split('/')[-1].split('.')[0]\n",
    "\n",
    "dataset_list = [\n",
    "    SegmentationDataset(df_list[i][(df_list[i]['fold'] == 'train') & (df_list[i]['img'].str.contains('lvl128'))], mode='test') for i, _ in enumerate(domains)\n",
    "]\n",
    "\n",
    "BATCH_SIZE=100\n",
    "\n",
    "loader_list = [\n",
    "    DataLoader(dataset_list[i], batch_size=BATCH_SIZE) for i, _ in enumerate(domains)\n",
    "]"
   ]
  },
  {
   "cell_type": "code",
   "execution_count": 77,
   "id": "4fad3eb2",
   "metadata": {},
   "outputs": [
    {
     "name": "stdout",
     "output_type": "stream",
     "text": [
      "lvl128\n"
     ]
    },
    {
     "data": {
      "image/png": "[encoded data removed]",
      "text/plain": [
       "<PIL.PngImagePlugin.PngImageFile image mode=L size=218x182 at 0x7F5D194FFDF0>"
      ]
     },
     "execution_count": 77,
     "metadata": {},
     "output_type": "execute_result"
    }
   ],
   "source": [
    "from PIL import Image\n",
    "\n",
    "img_id = 256\n",
    "\n",
    "print(df_list[0].iloc[img_id].img.split('/')[-1].split('.')[0])\n",
    "\n",
    "Image.open(df_list[0].iloc[img_id].img)"
   ]
  },
  {
   "cell_type": "markdown",
   "id": "3c03b7cb",
   "metadata": {},
   "source": [
    "## Method"
   ]
  },
  {
   "cell_type": "code",
   "execution_count": 120,
   "id": "3e16e33a",
   "metadata": {},
   "outputs": [
    {
     "data": {
      "text/plain": [
       "(None, 2809)"
      ]
     },
     "execution_count": 120,
     "metadata": {},
     "output_type": "execute_result"
    }
   ],
   "source": [
    "import torch\n",
    "import gc\n",
    "\n",
    "torch.cuda.empty_cache(), gc.collect()"
   ]
  },
  {
   "cell_type": "code",
   "execution_count": 121,
   "id": "8ef7519b",
   "metadata": {},
   "outputs": [
    {
     "name": "stdout",
     "output_type": "stream",
     "text": [
      "cuda:0\n"
     ]
    }
   ],
   "source": [
    "from sklearn.manifold import TSNE\n",
    "\n",
    "import torch.nn as nn\n",
    "import torch\n",
    "\n",
    "import copy\n",
    "\n",
    "from tqdm.notebook import tqdm\n",
    "\n",
    "import matplotlib.pyplot as plt\n",
    "\n",
    "import numpy as np\n",
    "\n",
    "from models.utils import pad_tensor, unpad_tensor\n",
    "\n",
    "DEVICE = torch.device('cuda:0' if torch.cuda.is_available() else 'cpu')\n",
    "print(DEVICE)\n",
    "\n",
    "def get_latent(model, loader, loader_id, device, to_plot=False):\n",
    "    model = copy.deepcopy(model)\n",
    "    model.to(device)\n",
    "    \n",
    "    latent_list = []\n",
    "    # label_list = []\n",
    "\n",
    "    with torch.no_grad():\n",
    "\n",
    "        for batch in tqdm(loader, desc='batch'):\n",
    "\n",
    "            src_img = torch.tensor(pad_tensor(batch['img'].cpu()), device=model.device)\n",
    "\n",
    "            latent = unpad_tensor(model.forward(src_img), batch['img']).detach().cpu().flatten(start_dim=1)\n",
    "            # pred_mask = (torch.sigmoid(out) > 0.5).long()\n",
    "\n",
    "            # latent = model(batch['img'].cuda()).detach().cpu().flatten(start_dim=1)\n",
    "\n",
    "            latent_list.append(latent)\n",
    "            # label_list += [loader_id] * batch['img'].shape[0]\n",
    "\n",
    "        # for batch in tqdm(loaderB):\n",
    "\n",
    "        #     latent = model(batch['img'].cuda()).detach().cpu().flatten(start_dim=1)\n",
    "\n",
    "        #     latent_list.append(latent)\n",
    "        #     label_list += [1] * batch['img'].shape[0]\n",
    "\n",
    "    latents = torch.cat(latent_list, 0)\n",
    "    # labels = np.array(label_list)\n",
    "    \n",
    "    latent_embedded = TSNE(n_components=2).fit_transform(latents)\n",
    "\n",
    "    if to_plot:\n",
    "        plt.figure(figsize = (7, 5))\n",
    "\n",
    "        plt.scatter(latent_embedded[:, 0], latent_embedded[:, 1], alpha=0.2)\n",
    "        plt.axis('off')\n",
    "\n",
    "        plt.show()\n",
    "    \n",
    "    return latent_embedded#, labels"
   ]
  },
  {
   "cell_type": "code",
   "execution_count": null,
   "id": "69d54b83",
   "metadata": {},
   "outputs": [],
   "source": [
    "get_latent(models_list[0], loader_list[0], loader_id=0, device=DEVICE, plot)"
   ]
  },
  {
   "cell_type": "code",
   "execution_count": 126,
   "id": "c6bcbd20",
   "metadata": {},
   "outputs": [
    {
     "data": {
      "application/vnd.jupyter.widget-view+json": {
       "model_id": "7498f19075564fa2916f24f3bdc1742a",
       "version_major": 2,
       "version_minor": 0
      },
      "text/plain": [
       "batch:   0%|          | 0/1 [00:00<?, ?it/s]"
      ]
     },
     "metadata": {},
     "output_type": "display_data"
    },
    {
     "data": {
      "application/vnd.jupyter.widget-view+json": {
       "model_id": "c75a9dbaf5444709a12e239f9e121734",
       "version_major": 2,
       "version_minor": 0
      },
      "text/plain": [
       "batch:   0%|          | 0/1 [00:00<?, ?it/s]"
      ]
     },
     "metadata": {},
     "output_type": "display_data"
    },
    {
     "data": {
      "application/vnd.jupyter.widget-view+json": {
       "model_id": "ccf387897acb4c298a283820ce8fb9b5",
       "version_major": 2,
       "version_minor": 0
      },
      "text/plain": [
       "batch:   0%|          | 0/1 [00:00<?, ?it/s]"
      ]
     },
     "metadata": {},
     "output_type": "display_data"
    },
    {
     "data": {
      "application/vnd.jupyter.widget-view+json": {
       "model_id": "351b4672a8b44626a185c4bc36b1be53",
       "version_major": 2,
       "version_minor": 0
      },
      "text/plain": [
       "batch:   0%|          | 0/1 [00:00<?, ?it/s]"
      ]
     },
     "metadata": {},
     "output_type": "display_data"
    },
    {
     "data": {
      "application/vnd.jupyter.widget-view+json": {
       "model_id": "e86be273982d4f05bf5ed0eb4753f88a",
       "version_major": 2,
       "version_minor": 0
      },
      "text/plain": [
       "batch:   0%|          | 0/1 [00:00<?, ?it/s]"
      ]
     },
     "metadata": {},
     "output_type": "display_data"
    },
    {
     "data": {
      "application/vnd.jupyter.widget-view+json": {
       "model_id": "ccc30afb20254c83897187616a113df9",
       "version_major": 2,
       "version_minor": 0
      },
      "text/plain": [
       "batch:   0%|          | 0/1 [00:00<?, ?it/s]"
      ]
     },
     "metadata": {},
     "output_type": "display_data"
    }
   ],
   "source": [
    "latent_list = [get_latent(models_list[0], loader, loader_id=i, device=DEVICE) for i, loader in enumerate(loader_list)]\n",
    "\n",
    "# latent_2, _ = get_latent(models_list[1].model, testA_loader, testB_loader, DEVICE, to_plot=False)\n",
    "\n",
    "# latent_3, _ = get_latent(models_list[2].model, testA_loader, testB_loader, DEVICE, to_plot=False)"
   ]
  },
  {
   "cell_type": "code",
   "execution_count": 129,
   "id": "b2ab0ee5",
   "metadata": {},
   "outputs": [
    {
     "data": {
      "image/png": "[encoded data removed]",
      "text/plain": [
       "<Figure size 700x500 with 1 Axes>"
      ]
     },
     "metadata": {},
     "output_type": "display_data"
    }
   ],
   "source": [
    "plt.figure(figsize = (7, 5))\n",
    "plt.title(f'unet clusters, pretrained on {domains[0]}')\n",
    "\n",
    "for latent, domain in zip(latent_list, domains):\n",
    "\n",
    "    plt.scatter(latent[:, 0], latent[:, 1], alpha=1, label=domain)\n",
    "\n",
    "plt.legend()\n",
    "plt.axis('off')\n",
    "plt.show()"
   ]
  }
 ],
 "metadata": {
  "kernelspec": {
   "display_name": "myenv",
   "language": "python",
   "name": "python3"
  },
  "language_info": {
   "codemirror_mode": {
    "name": "ipython",
    "version": 3
   },
   "file_extension": ".py",
   "mimetype": "text/x-python",
   "name": "python",
   "nbconvert_exporter": "python",
   "pygments_lexer": "ipython3",
   "version": "3.8.0"
  },
  "vscode": {
   "interpreter": {
    "hash": "75ee0fdb1f717eb71455034c579041d389bd68f1d4668a2697a20ec08bf29ffe"
   }
  }
 },
 "nbformat": 4,
 "nbformat_minor": 5
}
